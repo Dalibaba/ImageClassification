{
 "cells": [
  {
   "cell_type": "code",
   "execution_count": 64,
   "id": "rapid-executive",
   "metadata": {},
   "outputs": [],
   "source": [
    "import os, os.path\n",
    "import seaborn as sns\n",
    "import pandas as pd\n",
    "import matplotlib.pyplot as plt\n",
    "\n",
    "# Directories of image data\n",
    "BASE_IMAGE_DIRECTORY = r\"C:\\Users\\linke\\Documents\\Datasets\\flowers\"\n",
    "TRAIN_IMAGE_DIRECTORY = os.path.join(BASE_IMAGE_DIRECTORY, \"train\")\n",
    "VAL_IMAGE_DIRECTORY = os.path.join(BASE_IMAGE_DIRECTORY, \"val\")\n",
    "TEST_IMAGE_DIRECTORY = os.path.join(BASE_IMAGE_DIRECTORY, \"test\")"
   ]
  },
  {
   "cell_type": "markdown",
   "id": "emotional-association",
   "metadata": {},
   "source": [
    "# Analyse Dataset"
   ]
  },
  {
   "cell_type": "code",
   "execution_count": 65,
   "id": "contrary-budapest",
   "metadata": {},
   "outputs": [
    {
     "name": "stdout",
     "output_type": "stream",
     "text": [
      "Amount of classes:  5\n",
      "class names ['daisy', 'dandelion', 'rose', 'sunflower', 'tulip']\n"
     ]
    }
   ],
   "source": [
    "classes = os.listdir(TRAIN_IMAGE_DIRECTORY) # dir is your directory path\n",
    "number_classes = len(classes)\n",
    "print (\"Amount of classes: \", number_files)\n",
    "print(\"class names\", classes)"
   ]
  },
  {
   "cell_type": "code",
   "execution_count": 67,
   "id": "respected-field",
   "metadata": {},
   "outputs": [],
   "source": [
    "# function for plotting amount of images in a folder\n",
    "def plot_data(path):\n",
    "    classes_images = []\n",
    "    dict_classes_images = {}\n",
    "    for class_name in classes:\n",
    "        path_class = os.path.join(path, class_name)\n",
    "        classes_images.append(len(os.listdir(path_class)))\n",
    "    dict_classes_images[\"classes\"] = classes\n",
    "    dict_classes_images[\"amount\"] = classes_images\n",
    "    sns.barplot(y=\"amount\", x=\"classes\",data=dict_classes_images)\n",
    "    plt.show()"
   ]
  },
  {
   "cell_type": "code",
   "execution_count": 69,
   "id": "judicial-check",
   "metadata": {},
   "outputs": [
    {
     "name": "stdout",
     "output_type": "stream",
     "text": [
      "TRAIN DATA\n"
     ]
    },
    {
     "data": {
      "image/png": "[encoded data removed]",
      "text/plain": [
       "<Figure size 432x288 with 1 Axes>"
      ]
     },
     "metadata": {
      "needs_background": "light"
     },
     "output_type": "display_data"
    },
    {
     "name": "stdout",
     "output_type": "stream",
     "text": [
      "VAL DATA\n"
     ]
    },
    {
     "data": {
      "image/png": "[encoded data removed]",
      "text/plain": [
       "<Figure size 432x288 with 1 Axes>"
      ]
     },
     "metadata": {
      "needs_background": "light"
     },
     "output_type": "display_data"
    },
    {
     "name": "stdout",
     "output_type": "stream",
     "text": [
      "TESET DATA\n"
     ]
    },
    {
     "data": {
      "image/png": "[encoded data removed]",
      "text/plain": [
       "<Figure size 432x288 with 1 Axes>"
      ]
     },
     "metadata": {
      "needs_background": "light"
     },
     "output_type": "display_data"
    }
   ],
   "source": [
    "print(\"TRAIN DATA\")\n",
    "plot_data(TRAIN_IMAGE_DIRECTORY)\n",
    "print(\"VAL DATA\")\n",
    "plot_data(VAL_IMAGE_DIRECTORY)\n",
    "print(\"TESET DATA\")\n",
    "plot_data(TEST_IMAGE_DIRECTORY)"
   ]
  },
  {
   "cell_type": "markdown",
   "id": "reliable-cedar",
   "metadata": {},
   "source": [
    "# Loading the model"
   ]
  },
  {
   "cell_type": "code",
   "execution_count": null,
   "id": "sound-display",
   "metadata": {},
   "outputs": [],
   "source": []
  }
 ],
 "metadata": {
  "kernelspec": {
   "display_name": "Python 3",
   "language": "python",
   "name": "python3"
  },
  "language_info": {
   "codemirror_mode": {
    "name": "ipython",
    "version": 3
   },
   "file_extension": ".py",
   "mimetype": "text/x-python",
   "name": "python",
   "nbconvert_exporter": "python",
   "pygments_lexer": "ipython3",
   "version": "3.7.10"
  }
 },
 "nbformat": 4,
 "nbformat_minor": 5
}
